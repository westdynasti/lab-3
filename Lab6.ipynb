{
  "nbformat": 4,
  "nbformat_minor": 0,
  "metadata": {
    "colab": {
      "provenance": [],
      "authorship_tag": "ABX9TyMje37UmH4aZ2LrsoGtyCso",
      "include_colab_link": true
    },
    "kernelspec": {
      "name": "python3",
      "display_name": "Python 3"
    },
    "language_info": {
      "name": "python"
    }
  },
  "cells": [
    {
      "cell_type": "markdown",
      "metadata": {
        "id": "view-in-github",
        "colab_type": "text"
      },
      "source": [
        "<a href=\"https://colab.research.google.com/github/westdynasti/lab-3/blob/main/Lab6.ipynb\" target=\"_parent\"><img src=\"https://colab.research.google.com/assets/colab-badge.svg\" alt=\"Open In Colab\"/></a>"
      ]
    },
    {
      "cell_type": "code",
      "execution_count": 1,
      "metadata": {
        "colab": {
          "base_uri": "https://localhost:8080/"
        },
        "id": "SxB_mnsx5jlF",
        "outputId": "691a9e50-2899-430f-cbf9-b567af3c261b"
      },
      "outputs": [
        {
          "output_type": "stream",
          "name": "stdout",
          "text": [
            "795\n"
          ]
        }
      ],
      "source": [
        "def rule1 (c,A):\n",
        "  dQ = c*A\n",
        "  return (dQ)\n",
        "\n",
        "A = 15\n",
        "c = 53\n",
        "\n",
        "dQ = rule1(c,A)\n",
        "\n",
        "print (dQ)\n"
      ]
    },
    {
      "cell_type": "code",
      "source": [
        "def rule2 (m, dA, A):\n",
        "  dQ = m*dA/A\n",
        "  return (dQ)\n",
        "\n",
        "m = 5\n",
        "A = 68\n",
        "dA = 78\n",
        "\n",
        "dQ = rule2 (m, dA, A)\n",
        "\n",
        "print (dQ)\n"
      ],
      "metadata": {
        "colab": {
          "base_uri": "https://localhost:8080/"
        },
        "id": "ptnWQxwS6Wr6",
        "outputId": "fc7d1426-04ef-4f17-9446-d33bb9453899"
      },
      "execution_count": 6,
      "outputs": [
        {
          "output_type": "stream",
          "name": "stdout",
          "text": [
            "5.735294117647059\n"
          ]
        }
      ]
    },
    {
      "cell_type": "code",
      "source": [
        "import numpy as np\n"
      ],
      "metadata": {
        "id": "qNEboSpb_fB0"
      },
      "execution_count": 12,
      "outputs": []
    },
    {
      "cell_type": "code",
      "source": [
        "def rule3(dA, dB):\n",
        "  dQ = np.sqrt(dA**2 + dB**2)\n",
        "  return dQ\n",
        "\n",
        "dx1 = 0.01\n",
        "dx2 = 0.02\n",
        "\n",
        "dx = rule3(dx1, dx2)\n",
        "\n",
        "print (dx)"
      ],
      "metadata": {
        "colab": {
          "base_uri": "https://localhost:8080/"
        },
        "id": "bInHUEJv-qhC",
        "outputId": "012e9e34-34e7-470a-ebc9-dfd0cc785a8e"
      },
      "execution_count": 5,
      "outputs": [
        {
          "output_type": "stream",
          "name": "stdout",
          "text": [
            "0.022360679774997897\n"
          ]
        }
      ]
    },
    {
      "cell_type": "code",
      "source": [
        "import numpy as np\n",
        "def rule4 (Q, m, dA, A, n, dB, B):\n",
        "  dQ = (np.sqrt(((m*dA/A)**2) + ((n*dB/B)**2)))/Q\n",
        "  return (dQ)\n",
        "\n",
        "\n",
        "Q = .01\n",
        "m = 1\n",
        "dA = 0.005\n",
        "A = 0.15671\n",
        "n = -0.5\n",
        "dB = 0.005\n",
        "B = 0.985\n",
        "\n",
        "dQ = rule4 (Q, m, dA, A, n, dB, B)\n",
        "\n",
        "print (dQ)"
      ],
      "metadata": {
        "colab": {
          "base_uri": "https://localhost:8080/"
        },
        "id": "5yO_qF5h_lmd",
        "outputId": "40150fd9-6621-4870-a539-a6af40f67327"
      },
      "execution_count": 3,
      "outputs": [
        {
          "output_type": "stream",
          "name": "stdout",
          "text": [
            "3.2006858859427756\n"
          ]
        }
      ]
    }
  ]
}